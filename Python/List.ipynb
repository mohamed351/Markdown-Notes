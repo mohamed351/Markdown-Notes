{
 "cells": [
  {
   "cell_type": "code",
   "execution_count": 5,
   "metadata": {},
   "outputs": [
    {
     "name": "stdout",
     "output_type": "stream",
     "text": [
      "id - 1\n",
      "name - mohamed\n",
      "salary - 3000\n",
      "================================\n",
      "id - 2\n",
      "name - Sayed\n",
      "salary - 9000\n",
      "================================\n",
      "id - 3\n",
      "name - khalid\n",
      "salary - 7000\n",
      "================================\n"
     ]
    }
   ],
   "source": [
    "list_of_dictionay = [ \n",
    "    {\"id\":1, \"name\":\"mohamed\",\"salary\":3000 },\n",
    "    {\"id\":2, \"name\":\"Sayed\",\"salary\":9000 },\n",
    "    {\"id\":3, \"name\":\"khalid\", \"salary\":7000} \n",
    "    ]\n",
    "for item in list_of_dictionay:\n",
    "    for elements in item:\n",
    "       print(f\"{elements} - {item.get(elements)}\")\n",
    "    print(\"================================\")\n",
    "\n"
   ]
  },
  {
   "cell_type": "code",
   "execution_count": 6,
   "metadata": {},
   "outputs": [
    {
     "name": "stdout",
     "output_type": "stream",
     "text": [
      "mohamed\n",
      "sayed\n",
      "ali\n",
      "mostafa\n",
      "kill myself\n"
     ]
    }
   ],
   "source": [
    "list_of_names = [\"mohamed\",\"sayed\",\"ali\", \"mostafa\" , \"kill myself\"]\n",
    "for item in list_of_names:\n",
    "    print(item)"
   ]
  },
  {
   "cell_type": "code",
   "execution_count": 11,
   "metadata": {},
   "outputs": [
    {
     "name": "stdout",
     "output_type": "stream",
     "text": [
      "['mohamed', 'ali', 'sayed', 'ss', 'ss', 'dd']\n"
     ]
    }
   ],
   "source": [
    "list_of_name_2  = [\"mohamed\",\"ali\",\"sayed\"]\n",
    "list_of_name_2.append(\"ss\")\n",
    "list_of_name_2.append(\"ss\")\n",
    "list_of_name_2.append(\"dd\")\n",
    "print(list_of_name_2)"
   ]
  },
  {
   "cell_type": "code",
   "execution_count": null,
   "metadata": {},
   "outputs": [],
   "source": [
    "list1 = [\"abc\", 34, True, 40.8, \"male\"]\n",
    "for item in list1:\n",
    "    if type(item) is str:\n",
    "        print(f\"The item is String\")\n",
    "    elif type(item) is int:\n",
    "        print(f\"The item is integer\")\n",
    "    elif type(item) is float:\n",
    "        print(f\"The item is float\")\n",
    "\n"
   ]
  }
 ],
 "metadata": {
  "interpreter": {
   "hash": "a92debf39adf93275490d9c076bbbab14d96639171b545e3a831c66b9e6720b5"
  },
  "kernelspec": {
   "display_name": "Python 3.10.0 64-bit",
   "language": "python",
   "name": "python3"
  },
  "language_info": {
   "codemirror_mode": {
    "name": "ipython",
    "version": 3
   },
   "file_extension": ".py",
   "mimetype": "text/x-python",
   "name": "python",
   "nbconvert_exporter": "python",
   "pygments_lexer": "ipython3",
   "version": "3.10.0"
  },
  "orig_nbformat": 4
 },
 "nbformat": 4,
 "nbformat_minor": 2
}
