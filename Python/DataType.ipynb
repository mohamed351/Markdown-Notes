{
 "cells": [
  {
   "cell_type": "code",
   "execution_count": 5,
   "metadata": {},
   "outputs": [
    {
     "name": "stdout",
     "output_type": "stream",
     "text": [
      "<class 'str'>\n",
      "Mohamd Amer\n"
     ]
    }
   ],
   "source": [
    "# str \n",
    "person_name = \"Mohamd Amer\"\n",
    "print(type(person_name))\n",
    "print(person_name)"
   ]
  },
  {
   "cell_type": "code",
   "execution_count": 6,
   "metadata": {},
   "outputs": [
    {
     "name": "stdout",
     "output_type": "stream",
     "text": [
      "<class 'int'>\n",
      "10\n"
     ]
    }
   ],
   "source": [
    "# int \n",
    "person_age = 10\n",
    "print(type(person_age))\n",
    "print(person_age);"
   ]
  },
  {
   "cell_type": "code",
   "execution_count": 7,
   "metadata": {},
   "outputs": [
    {
     "name": "stdout",
     "output_type": "stream",
     "text": [
      "<class 'float'>\n",
      "75.6\n"
     ]
    }
   ],
   "source": [
    "#float\n",
    "person_exam_result = 75.6\n",
    "print(type(person_exam_result))\n",
    "print(person_exam_result)"
   ]
  },
  {
   "cell_type": "code",
   "execution_count": 9,
   "metadata": {},
   "outputs": [
    {
     "name": "stdout",
     "output_type": "stream",
     "text": [
      "<class 'complex'>\n",
      "5j\n"
     ]
    }
   ],
   "source": [
    "#complex\n",
    "complex_number = 5j\n",
    "print(type(complex_number))\n",
    "print(complex_number)"
   ]
  },
  {
   "cell_type": "code",
   "execution_count": 12,
   "metadata": {},
   "outputs": [
    {
     "name": "stdout",
     "output_type": "stream",
     "text": [
      "<class 'list'>\n",
      "['C#', 'JavaScript', 'Dart', 'Python', 'Visual Basic']\n",
      "C#\n",
      "JavaScript\n",
      "Dart\n",
      "Python\n",
      "Visual Basic\n"
     ]
    }
   ],
   "source": [
    "#list\n",
    "person_favorate = [\"C#\",\"JavaScript\",\"Dart\",\"Python\",\"Visual Basic\"]\n",
    "print(type(person_favorate))\n",
    "print(person_favorate)\n",
    "#using for\n",
    "for item in person_favorate:\n",
    "    print(item)\n"
   ]
  },
  {
   "cell_type": "code",
   "execution_count": 23,
   "metadata": {},
   "outputs": [
    {
     "name": "stdout",
     "output_type": "stream",
     "text": [
      "<class 'dict'>\n",
      "name : Mohamed Beshri Amer\n",
      "age : 25\n",
      "salary : 3000\n"
     ]
    }
   ],
   "source": [
    "# dictionay  or dict \n",
    "personal_info = {\"name\":\"Mohamed Beshri Amer\" , \"age\":25 , \"salary\":3000}\n",
    "print(type(personal_info))\n",
    "for item in personal_info:\n",
    "  print(f\"{item} : {personal_info.get(item)}\")"
   ]
  },
  {
   "cell_type": "code",
   "execution_count": 27,
   "metadata": {},
   "outputs": [
    {
     "name": "stdout",
     "output_type": "stream",
     "text": [
      "you are not happy\n",
      "True\n",
      "Hello Mohamed Are you Okey , I am PC I love you !, I know you hate humans \n"
     ]
    }
   ],
   "source": [
    "# boolean \n",
    "is_happy = False\n",
    "if is_happy:\n",
    "    print(\"you are happy\")\n",
    "else:\n",
    "    print(\"you are not happy\")\n",
    "name =\"Mohamed\"\n",
    "testing_condtion = name == \"Mohamed\"\n",
    "print(testing_condtion)\n",
    "\n",
    "if name == \"Mohamed\":\n",
    "    print(\"Hello Mohamed Are you Okey , I am PC I love you !, I know you hate humans \")\n"
   ]
  },
  {
   "cell_type": "code",
   "execution_count": 29,
   "metadata": {},
   "outputs": [
    {
     "name": "stdout",
     "output_type": "stream",
     "text": [
      "b'Hello World'\n",
      "<class 'bytes'>\n"
     ]
    }
   ],
   "source": [
    "x = b\"Hello World\"\n",
    "print(x)\n",
    "print(type(x))\n",
    "\n"
   ]
  },
  {
   "cell_type": "code",
   "execution_count": 37,
   "metadata": {},
   "outputs": [
    {
     "name": "stdout",
     "output_type": "stream",
     "text": [
      "bytearray(b'\\x00\\x00\\x00\\x00\\x00\\x00\\x00\\x00\\x00\\x00')\n",
      "<class 'bytearray'>\n"
     ]
    }
   ],
   "source": [
    "array = bytearray(10)\n",
    "array.append(65)\n",
    "print(x)\n",
    "print(type(array))"
   ]
  },
  {
   "cell_type": "code",
   "execution_count": 15,
   "metadata": {},
   "outputs": [
    {
     "name": "stdout",
     "output_type": "stream",
     "text": [
      "<class 'range'>\n",
      "<class 'range'>\n",
      "range(0, 9)\n",
      "range(1, 9)\n",
      "0\n",
      "1\n",
      "2\n",
      "3\n",
      "4\n",
      "5\n",
      "6\n",
      "7\n",
      "8\n",
      "==============================\n",
      "1\n",
      "2\n",
      "3\n",
      "4\n",
      "5\n",
      "6\n",
      "7\n",
      "8\n"
     ]
    }
   ],
   "source": [
    "#range\n",
    "counter = range(9)  # not going to count 9\n",
    "conter_start_stop = range(1,9) # not going to count 0 in loop and 9\n",
    "print(type(counter))\n",
    "print(type(conter_start_stop))\n",
    "print(counter)\n",
    "print(conter_start_stop)\n",
    "\n",
    "for item in counter:\n",
    "    print(item)\n",
    "print(\"==============================\")\n",
    "for item in conter_start_stop:\n",
    "    print(item)"
   ]
  }
 ],
 "metadata": {
  "interpreter": {
   "hash": "a92debf39adf93275490d9c076bbbab14d96639171b545e3a831c66b9e6720b5"
  },
  "kernelspec": {
   "display_name": "Python 3.10.0 64-bit",
   "language": "python",
   "name": "python3"
  },
  "language_info": {
   "codemirror_mode": {
    "name": "ipython",
    "version": 3
   },
   "file_extension": ".py",
   "mimetype": "text/x-python",
   "name": "python",
   "nbconvert_exporter": "python",
   "pygments_lexer": "ipython3",
   "version": "3.10.0"
  },
  "orig_nbformat": 4
 },
 "nbformat": 4,
 "nbformat_minor": 2
}
